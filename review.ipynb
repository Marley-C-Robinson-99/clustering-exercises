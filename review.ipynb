{
 "cells": [
  {
   "cell_type": "markdown",
   "metadata": {},
   "source": [
    "# Regression Module Recap\n",
    "\n",
    "- [Overall Presentation Feedback](#Overall-Presentation-Feedback)\n",
    "- [Pipeline Review](#Pipeline-Review)\n",
    "- [Tips and Tricks](#Tips-and-Tricks)\n",
    "- [Going Further](#Going-Further)"
   ]
  },
  {
   "cell_type": "markdown",
   "metadata": {},
   "source": [
    "## Overall Presentation Feedback\n",
    "\n",
    "\n",
    "- Talk through your visuals more: what is this? what are we looking at? why is this in the presentation? what is the takeaway? Remember your audience has never seen this viz before, even though you have probably been staring at it tweaking it for hours\n",
    "- reiterate where the data comes from, size, prep, etc (doesn't have to be long) (e.g. our database contains... I used ...)\n",
    "- communicate model performance is on unseen data\n",
    "- executive summary -- overall good -- quantify model performance, drivers\n",
    "- show don't tell, if a viz can explain it, it's generally preferable -- e.g. model performance comparison\n",
    "- include answers to questions\n",
    "- don't use animation; competes w/ attention; doesn't add anything; looks funky over zoom screen share (or in-person via an adapter!)\n",
    "\n",
    "---\n",
    "\n",
    "- Number Formatting: in tables, slides, visualizations\n",
    "- use a diverging color palette for heatmaps, set anchors"
   ]
  },
  {
   "cell_type": "markdown",
   "metadata": {},
   "source": [
    "## Pipeline Review\n",
    "\n",
    "What happens when?\n",
    "\n",
    "- SQL: acquire + prep\n",
    "- drop outliers: prep\n",
    "- Python: all over the place\n",
    "- **imputation**: filling in missing values (w/ e.g. 0, or the average value): prep\n",
    "- Pandas: all over the place\n",
    "- train test split: prep -- before explore\n",
    "- scaling: prep/modeling -- have a prep function that returns scaled and unscaled data\n",
    "- hypothesis testing: explore\n",
    "- visualization: all over the pipeline\n",
    "- touching the test data: *only* at the end\n",
    "    - scaling + imputation parameters are calculated from the **training** split\n",
    "    - any data prep parameters are calculated from the training split\n",
    "        - drop outliers -- any data point > 3 stds from the mean\n",
    "        - mean + std are calculated from train, not test, not the whole dataset\n",
    "    - before being fed into a model, test data is prepped in the same way the training data was\n",
    "    - as far as prep goes -- if you could do it to a single new data point, you can do it to the test split"
   ]
  },
  {
   "cell_type": "markdown",
   "metadata": {},
   "source": [
    "### MVP Pipeline Example\n",
    "\n",
    "1. **Acquire**: acquire from SQL\n",
    "1. **Prepare**: drop nulls; train_test_split\n",
    "1. **Explore**: visualize each feature against the target\n",
    "1. **Model**: calculate a baseline; fit a linear regression model on 2 features; fit a 2nd degree polynomial model; compare performance\n",
    "\n",
    "### Iterate\n",
    "\n",
    "1. Move functions to `wrangle.py`\n",
    "1. Visualize multiple feature interactions\n",
    "1. Stats tests\n",
    "1. scale data and see how model performance is impacted\n",
    "1. Impute nulls\n",
    "1. Drop outliers\n",
    "1. more model types\n",
    "1. Cleanup visualizations\n",
    "1. Tweak model hyperparameters\n",
    "1. More visualizations"
   ]
  },
  {
   "cell_type": "markdown",
   "metadata": {},
   "source": [
    "## Tips and Tricks"
   ]
  },
  {
   "cell_type": "markdown",
   "metadata": {},
   "source": [
    "### Formatting numbers in pandas"
   ]
  },
  {
   "cell_type": "code",
   "execution_count": 16,
   "metadata": {},
   "outputs": [],
   "source": [
    "import pandas as pd\n",
    "import numpy as np\n",
    "import matplotlib.pyplot as plt\n",
    "import matplotlib as mpl\n",
    "import seaborn as sns\n",
    "\n",
    "%matplotlib inline"
   ]
  },
  {
   "cell_type": "code",
   "execution_count": 17,
   "metadata": {},
   "outputs": [
    {
     "data": {
      "text/plain": [
       "0    0.752034\n",
       "1    0.069641\n",
       "2   -0.265446\n",
       "3    0.929584\n",
       "4    1.260821\n",
       "dtype: float64"
      ]
     },
     "execution_count": 17,
     "metadata": {},
     "output_type": "execute_result"
    }
   ],
   "source": [
    "x = pd.Series(np.random.randn(5))\n",
    "x"
   ]
  },
  {
   "cell_type": "code",
   "execution_count": 18,
   "metadata": {},
   "outputs": [
    {
     "data": {
      "text/plain": [
       "0    0.75\n",
       "1    0.07\n",
       "2   -0.27\n",
       "3    0.93\n",
       "4    1.26\n",
       "dtype: float64"
      ]
     },
     "execution_count": 18,
     "metadata": {},
     "output_type": "execute_result"
    }
   ],
   "source": [
    "pd.options.display.float_format = '{:.2f}'.format\n",
    "x"
   ]
  },
  {
   "cell_type": "code",
   "execution_count": 19,
   "metadata": {},
   "outputs": [
    {
     "data": {
      "text/plain": [
       "0    0.752034\n",
       "1    0.069641\n",
       "2   -0.265446\n",
       "3    0.929584\n",
       "4    1.260821\n",
       "dtype: float64"
      ]
     },
     "execution_count": 19,
     "metadata": {},
     "output_type": "execute_result"
    }
   ],
   "source": [
    "pd.reset_option('display.float_format')\n",
    "x"
   ]
  },
  {
   "cell_type": "markdown",
   "metadata": {},
   "source": [
    "### Correlation Heatmaps"
   ]
  },
  {
   "cell_type": "code",
   "execution_count": 20,
   "metadata": {},
   "outputs": [],
   "source": [
    "# some fake data for demonstration\n",
    "np.random.seed(123)\n",
    "df = pd.DataFrame()\n",
    "df['x1'] = np.random.randn(100)\n",
    "df['x2'] = np.random.randn(100) * 1_000_000\n",
    "df['x3'] = df.x1 + np.random.randn(100)\n",
    "df['x4'] = - df.x1 + np.random.randn(100)\n",
    "df['x5'] = np.random.randn(100) * 100_000"
   ]
  },
  {
   "cell_type": "code",
   "execution_count": 21,
   "metadata": {},
   "outputs": [
    {
     "data": {
      "text/plain": [
       "<AxesSubplot:>"
      ]
     },
     "execution_count": 21,
     "metadata": {},
     "output_type": "execute_result"
    },
    {
     "data": {
      "image/png": "[encoded data removed]",
      "text/plain": [
       "<Figure size 432x288 with 2 Axes>"
      ]
     },
     "metadata": {
      "needs_background": "light"
     },
     "output_type": "display_data"
    }
   ],
   "source": [
    "# Try also coolwarm, coolwarm_r\n",
    "# see https://matplotlib.org/stable/tutorials/colors/colormaps.html#diverging\n",
    "# vmin, vmax, center\n",
    "sns.heatmap(df.corr(), cmap='PiYG')"
   ]
  },
  {
   "cell_type": "markdown",
   "metadata": {},
   "source": [
    "### Formatting Axis Ticks"
   ]
  },
  {
   "cell_type": "code",
   "execution_count": 22,
   "metadata": {},
   "outputs": [
    {
     "data": {
      "text/plain": [
       "<AxesSubplot:ylabel='Frequency'>"
      ]
     },
     "execution_count": 22,
     "metadata": {},
     "output_type": "execute_result"
    },
    {
     "data": {
      "image/png": "[encoded data removed]",
      "text/plain": [
       "<Figure size 432x288 with 1 Axes>"
      ]
     },
     "metadata": {
      "needs_background": "light"
     },
     "output_type": "display_data"
    }
   ],
   "source": [
    "df.x2.plot.hist()"
   ]
  },
  {
   "cell_type": "code",
   "execution_count": 23,
   "metadata": {},
   "outputs": [
    {
     "data": {
      "text/plain": [
       "[Text(0.5, 0, 'x2 (millions)')]"
      ]
     },
     "execution_count": 23,
     "metadata": {},
     "output_type": "execute_result"
    },
    {
     "data": {
      "image/png": "[encoded data removed]",
      "text/plain": [
       "<Figure size 432x288 with 1 Axes>"
      ]
     },
     "metadata": {
      "needs_background": "light"
     },
     "output_type": "display_data"
    }
   ],
   "source": [
    "ax = df.x2.plot.hist()\n",
    "ax.xaxis.set_major_formatter(lambda x, pos: '{:.1f} m'.format(x / 1_000_000))\n",
    "ax.set(xlabel='x2 (millions)')"
   ]
  },
  {
   "cell_type": "code",
   "execution_count": 24,
   "metadata": {},
   "outputs": [
    {
     "data": {
      "image/png": "[encoded data removed]",
      "text/plain": [
       "<Figure size 432x288 with 1 Axes>"
      ]
     },
     "metadata": {
      "needs_background": "light"
     },
     "output_type": "display_data"
    }
   ],
   "source": [
    "ax = df.x5.plot.hist()\n",
    "ax.xaxis.set_major_formatter('{:,.0f}'.format)"
   ]
  },
  {
   "cell_type": "code",
   "execution_count": 25,
   "metadata": {},
   "outputs": [
    {
     "data": {
      "image/png": "[encoded data removed]",
      "text/plain": [
       "<Figure size 432x288 with 1 Axes>"
      ]
     },
     "metadata": {
      "needs_background": "light"
     },
     "output_type": "display_data"
    }
   ],
   "source": [
    "tips = sns.load_dataset('tips')\n",
    "tips['tip_percentage'] = tips.tip / tips.total_bill\n",
    "\n",
    "ax = tips.groupby('time').tip_percentage.mean().plot.bar()\n",
    "plt.xticks(rotation=0)\n",
    "ax.yaxis.set_major_formatter('{:.0%}'.format)"
   ]
  },
  {
   "cell_type": "markdown",
   "metadata": {},
   "source": [
    "### pandas table styling"
   ]
  },
  {
   "cell_type": "code",
   "execution_count": 26,
   "metadata": {},
   "outputs": [
    {
     "data": {
      "text/html": [
       "<style type=\"text/css\">\n",
       "#T_c503a_row0_col0, #T_c503a_row1_col1, #T_c503a_row2_col2, #T_c503a_row3_col3, #T_c503a_row4_col4 {\n",
       "  background-color: #3b4cc0;\n",
       "  color: #f1f1f1;\n",
       "}\n",
       "#T_c503a_row0_col1, #T_c503a_row1_col0 {\n",
       "  background-color: #dfdbd9;\n",
       "  color: #000000;\n",
       "}\n",
       "#T_c503a_row0_col2, #T_c503a_row2_col0 {\n",
       "  background-color: #6384eb;\n",
       "  color: #f1f1f1;\n",
       "}\n",
       "#T_c503a_row0_col3, #T_c503a_row3_col0 {\n",
       "  background-color: #d44e41;\n",
       "  color: #f1f1f1;\n",
       "}\n",
       "#T_c503a_row0_col4, #T_c503a_row1_col2, #T_c503a_row2_col1, #T_c503a_row4_col0 {\n",
       "  background-color: #dcdddd;\n",
       "  color: #000000;\n",
       "}\n",
       "#T_c503a_row1_col3, #T_c503a_row3_col1 {\n",
       "  background-color: #d4dbe6;\n",
       "  color: #000000;\n",
       "}\n",
       "#T_c503a_row1_col4, #T_c503a_row4_col1 {\n",
       "  background-color: #eed0c0;\n",
       "  color: #000000;\n",
       "}\n",
       "#T_c503a_row2_col3, #T_c503a_row3_col2 {\n",
       "  background-color: #f29274;\n",
       "  color: #f1f1f1;\n",
       "}\n",
       "#T_c503a_row2_col4, #T_c503a_row3_col4, #T_c503a_row4_col2, #T_c503a_row4_col3 {\n",
       "  background-color: #d3dbe7;\n",
       "  color: #000000;\n",
       "}\n",
       "</style>\n",
       "<table id=\"T_c503a_\">\n",
       "  <thead>\n",
       "    <tr>\n",
       "      <th class=\"blank level0\" >&nbsp;</th>\n",
       "      <th class=\"col_heading level0 col0\" >x1</th>\n",
       "      <th class=\"col_heading level0 col1\" >x2</th>\n",
       "      <th class=\"col_heading level0 col2\" >x3</th>\n",
       "      <th class=\"col_heading level0 col3\" >x4</th>\n",
       "      <th class=\"col_heading level0 col4\" >x5</th>\n",
       "    </tr>\n",
       "  </thead>\n",
       "  <tbody>\n",
       "    <tr>\n",
       "      <th id=\"T_c503a_level0_row0\" class=\"row_heading level0 row0\" >x1</th>\n",
       "      <td id=\"T_c503a_row0_col0\" class=\"data row0 col0\" >1.000</td>\n",
       "      <td id=\"T_c503a_row0_col1\" class=\"data row0 col1\" >-0.019</td>\n",
       "      <td id=\"T_c503a_row0_col2\" class=\"data row0 col2\" >0.742</td>\n",
       "      <td id=\"T_c503a_row0_col3\" class=\"data row0 col3\" >-0.816</td>\n",
       "      <td id=\"T_c503a_row0_col4\" class=\"data row0 col4\" >0.004</td>\n",
       "    </tr>\n",
       "    <tr>\n",
       "      <th id=\"T_c503a_level0_row1\" class=\"row_heading level0 row1\" >x2</th>\n",
       "      <td id=\"T_c503a_row1_col0\" class=\"data row1 col0\" >-0.019</td>\n",
       "      <td id=\"T_c503a_row1_col1\" class=\"data row1 col1\" >1.000</td>\n",
       "      <td id=\"T_c503a_row1_col2\" class=\"data row1 col2\" >0.001</td>\n",
       "      <td id=\"T_c503a_row1_col3\" class=\"data row1 col3\" >0.067</td>\n",
       "      <td id=\"T_c503a_row1_col4\" class=\"data row1 col4\" >-0.154</td>\n",
       "    </tr>\n",
       "    <tr>\n",
       "      <th id=\"T_c503a_level0_row2\" class=\"row_heading level0 row2\" >x3</th>\n",
       "      <td id=\"T_c503a_row2_col0\" class=\"data row2 col0\" >0.742</td>\n",
       "      <td id=\"T_c503a_row2_col1\" class=\"data row2 col1\" >0.001</td>\n",
       "      <td id=\"T_c503a_row2_col2\" class=\"data row2 col2\" >1.000</td>\n",
       "      <td id=\"T_c503a_row2_col3\" class=\"data row2 col3\" >-0.535</td>\n",
       "      <td id=\"T_c503a_row2_col4\" class=\"data row2 col4\" >0.073</td>\n",
       "    </tr>\n",
       "    <tr>\n",
       "      <th id=\"T_c503a_level0_row3\" class=\"row_heading level0 row3\" >x4</th>\n",
       "      <td id=\"T_c503a_row3_col0\" class=\"data row3 col0\" >-0.816</td>\n",
       "      <td id=\"T_c503a_row3_col1\" class=\"data row3 col1\" >0.067</td>\n",
       "      <td id=\"T_c503a_row3_col2\" class=\"data row3 col2\" >-0.535</td>\n",
       "      <td id=\"T_c503a_row3_col3\" class=\"data row3 col3\" >1.000</td>\n",
       "      <td id=\"T_c503a_row3_col4\" class=\"data row3 col4\" >0.076</td>\n",
       "    </tr>\n",
       "    <tr>\n",
       "      <th id=\"T_c503a_level0_row4\" class=\"row_heading level0 row4\" >x5</th>\n",
       "      <td id=\"T_c503a_row4_col0\" class=\"data row4 col0\" >0.004</td>\n",
       "      <td id=\"T_c503a_row4_col1\" class=\"data row4 col1\" >-0.154</td>\n",
       "      <td id=\"T_c503a_row4_col2\" class=\"data row4 col2\" >0.073</td>\n",
       "      <td id=\"T_c503a_row4_col3\" class=\"data row4 col3\" >0.076</td>\n",
       "      <td id=\"T_c503a_row4_col4\" class=\"data row4 col4\" >1.000</td>\n",
       "    </tr>\n",
       "  </tbody>\n",
       "</table>\n"
      ],
      "text/plain": [
       "<pandas.io.formats.style.Styler at 0x7fde015b84f0>"
      ]
     },
     "execution_count": 26,
     "metadata": {},
     "output_type": "execute_result"
    }
   ],
   "source": [
    "df.corr().style.background_gradient(vmin=-1, vmax=1, cmap='coolwarm_r').format('{:.3f}'.format)"
   ]
  },
  {
   "cell_type": "code",
   "execution_count": 27,
   "metadata": {},
   "outputs": [
    {
     "data": {
      "text/html": [
       "<style type=\"text/css\">\n",
       "#T_d3dd4_row0_col2, #T_d3dd4_row1_col4, #T_d3dd4_row2_col0, #T_d3dd4_row2_col1, #T_d3dd4_row4_col3 {\n",
       "  background-color: yellow;\n",
       "}\n",
       "</style>\n",
       "<table id=\"T_d3dd4_\">\n",
       "  <thead>\n",
       "    <tr>\n",
       "      <th class=\"blank level0\" >&nbsp;</th>\n",
       "      <th class=\"col_heading level0 col0\" >x1</th>\n",
       "      <th class=\"col_heading level0 col1\" >x2</th>\n",
       "      <th class=\"col_heading level0 col2\" >x3</th>\n",
       "      <th class=\"col_heading level0 col3\" >x4</th>\n",
       "      <th class=\"col_heading level0 col4\" >x5</th>\n",
       "    </tr>\n",
       "  </thead>\n",
       "  <tbody>\n",
       "    <tr>\n",
       "      <th id=\"T_d3dd4_level0_row0\" class=\"row_heading level0 row0\" >8</th>\n",
       "      <td id=\"T_d3dd4_row0_col0\" class=\"data row0 col0\" >1.265936</td>\n",
       "      <td id=\"T_d3dd4_row0_col1\" class=\"data row0 col1\" >426146.639690</td>\n",
       "      <td id=\"T_d3dd4_row0_col2\" class=\"data row0 col2\" >1.170734</td>\n",
       "      <td id=\"T_d3dd4_row0_col3\" class=\"data row0 col3\" >-0.923298</td>\n",
       "      <td id=\"T_d3dd4_row0_col4\" class=\"data row0 col4\" >3594.050250</td>\n",
       "    </tr>\n",
       "    <tr>\n",
       "      <th id=\"T_d3dd4_level0_row1\" class=\"row_heading level0 row1\" >70</th>\n",
       "      <td id=\"T_d3dd4_row1_col0\" class=\"data row1 col0\" >0.468439</td>\n",
       "      <td id=\"T_d3dd4_row1_col1\" class=\"data row1 col1\" >-1048991.677318</td>\n",
       "      <td id=\"T_d3dd4_row1_col2\" class=\"data row1 col2\" >-0.744946</td>\n",
       "      <td id=\"T_d3dd4_row1_col3\" class=\"data row1 col3\" >-2.719974</td>\n",
       "      <td id=\"T_d3dd4_row1_col4\" class=\"data row1 col4\" >67364.893381</td>\n",
       "    </tr>\n",
       "    <tr>\n",
       "      <th id=\"T_d3dd4_level0_row2\" class=\"row_heading level0 row2\" >82</th>\n",
       "      <td id=\"T_d3dd4_row2_col0\" class=\"data row2 col0\" >1.660952</td>\n",
       "      <td id=\"T_d3dd4_row2_col1\" class=\"data row2 col1\" >1395352.929757</td>\n",
       "      <td id=\"T_d3dd4_row2_col2\" class=\"data row2 col2\" >0.142845</td>\n",
       "      <td id=\"T_d3dd4_row2_col3\" class=\"data row2 col3\" >-2.966738</td>\n",
       "      <td id=\"T_d3dd4_row2_col4\" class=\"data row2 col4\" >-263143.803681</td>\n",
       "    </tr>\n",
       "    <tr>\n",
       "      <th id=\"T_d3dd4_level0_row3\" class=\"row_heading level0 row3\" >28</th>\n",
       "      <td id=\"T_d3dd4_row3_col0\" class=\"data row3 col0\" >-0.140069</td>\n",
       "      <td id=\"T_d3dd4_row3_col1\" class=\"data row3 col1\" >474347.297872</td>\n",
       "      <td id=\"T_d3dd4_row3_col2\" class=\"data row3 col2\" >-1.377422</td>\n",
       "      <td id=\"T_d3dd4_row3_col3\" class=\"data row3 col3\" >-0.052546</td>\n",
       "      <td id=\"T_d3dd4_row3_col4\" class=\"data row3 col4\" >-58661.595085</td>\n",
       "    </tr>\n",
       "    <tr>\n",
       "      <th id=\"T_d3dd4_level0_row4\" class=\"row_heading level0 row4\" >63</th>\n",
       "      <td id=\"T_d3dd4_row4_col0\" class=\"data row4 col0\" >-1.326265</td>\n",
       "      <td id=\"T_d3dd4_row4_col1\" class=\"data row4 col1\" >704474.074044</td>\n",
       "      <td id=\"T_d3dd4_row4_col2\" class=\"data row4 col2\" >-1.909802</td>\n",
       "      <td id=\"T_d3dd4_row4_col3\" class=\"data row4 col3\" >2.002229</td>\n",
       "      <td id=\"T_d3dd4_row4_col4\" class=\"data row4 col4\" >-59873.176668</td>\n",
       "    </tr>\n",
       "  </tbody>\n",
       "</table>\n"
      ],
      "text/plain": [
       "<pandas.io.formats.style.Styler at 0x7fde015b8160>"
      ]
     },
     "execution_count": 27,
     "metadata": {},
     "output_type": "execute_result"
    }
   ],
   "source": [
    "df.sample(5, random_state=123).style.highlight_max(axis=0)"
   ]
  },
  {
   "cell_type": "code",
   "execution_count": 28,
   "metadata": {},
   "outputs": [
    {
     "data": {
      "text/html": [
       "<style type=\"text/css\">\n",
       "</style>\n",
       "<table id=\"T_b06ff_\">\n",
       "  <thead>\n",
       "    <tr>\n",
       "      <th class=\"blank level0\" >&nbsp;</th>\n",
       "      <th class=\"col_heading level0 col0\" >x1</th>\n",
       "      <th class=\"col_heading level0 col1\" >x2</th>\n",
       "      <th class=\"col_heading level0 col2\" >x3</th>\n",
       "      <th class=\"col_heading level0 col3\" >x4</th>\n",
       "      <th class=\"col_heading level0 col4\" >x5</th>\n",
       "    </tr>\n",
       "  </thead>\n",
       "  <tbody>\n",
       "    <tr>\n",
       "      <th id=\"T_b06ff_level0_row0\" class=\"row_heading level0 row0\" >8</th>\n",
       "      <td id=\"T_b06ff_row0_col0\" class=\"data row0 col0\" >1.265936</td>\n",
       "      <td id=\"T_b06ff_row0_col1\" class=\"data row0 col1\" >0.426 million</td>\n",
       "      <td id=\"T_b06ff_row0_col2\" class=\"data row0 col2\" >117.1%</td>\n",
       "      <td id=\"T_b06ff_row0_col3\" class=\"data row0 col3\" >-0.923298</td>\n",
       "      <td id=\"T_b06ff_row0_col4\" class=\"data row0 col4\" >3,594.1</td>\n",
       "    </tr>\n",
       "    <tr>\n",
       "      <th id=\"T_b06ff_level0_row1\" class=\"row_heading level0 row1\" >70</th>\n",
       "      <td id=\"T_b06ff_row1_col0\" class=\"data row1 col0\" >0.468439</td>\n",
       "      <td id=\"T_b06ff_row1_col1\" class=\"data row1 col1\" >-1.05 million</td>\n",
       "      <td id=\"T_b06ff_row1_col2\" class=\"data row1 col2\" >-74.5%</td>\n",
       "      <td id=\"T_b06ff_row1_col3\" class=\"data row1 col3\" >-2.719974</td>\n",
       "      <td id=\"T_b06ff_row1_col4\" class=\"data row1 col4\" >67,364.9</td>\n",
       "    </tr>\n",
       "    <tr>\n",
       "      <th id=\"T_b06ff_level0_row2\" class=\"row_heading level0 row2\" >82</th>\n",
       "      <td id=\"T_b06ff_row2_col0\" class=\"data row2 col0\" >1.660952</td>\n",
       "      <td id=\"T_b06ff_row2_col1\" class=\"data row2 col1\" >1.4 million</td>\n",
       "      <td id=\"T_b06ff_row2_col2\" class=\"data row2 col2\" >14.3%</td>\n",
       "      <td id=\"T_b06ff_row2_col3\" class=\"data row2 col3\" >-2.966738</td>\n",
       "      <td id=\"T_b06ff_row2_col4\" class=\"data row2 col4\" >-263,143.8</td>\n",
       "    </tr>\n",
       "    <tr>\n",
       "      <th id=\"T_b06ff_level0_row3\" class=\"row_heading level0 row3\" >28</th>\n",
       "      <td id=\"T_b06ff_row3_col0\" class=\"data row3 col0\" >-0.140069</td>\n",
       "      <td id=\"T_b06ff_row3_col1\" class=\"data row3 col1\" >0.474 million</td>\n",
       "      <td id=\"T_b06ff_row3_col2\" class=\"data row3 col2\" >-137.7%</td>\n",
       "      <td id=\"T_b06ff_row3_col3\" class=\"data row3 col3\" >-0.052546</td>\n",
       "      <td id=\"T_b06ff_row3_col4\" class=\"data row3 col4\" >-58,661.6</td>\n",
       "    </tr>\n",
       "    <tr>\n",
       "      <th id=\"T_b06ff_level0_row4\" class=\"row_heading level0 row4\" >63</th>\n",
       "      <td id=\"T_b06ff_row4_col0\" class=\"data row4 col0\" >-1.326265</td>\n",
       "      <td id=\"T_b06ff_row4_col1\" class=\"data row4 col1\" >0.704 million</td>\n",
       "      <td id=\"T_b06ff_row4_col2\" class=\"data row4 col2\" >-191.0%</td>\n",
       "      <td id=\"T_b06ff_row4_col3\" class=\"data row4 col3\" >2.002229</td>\n",
       "      <td id=\"T_b06ff_row4_col4\" class=\"data row4 col4\" >-59,873.2</td>\n",
       "    </tr>\n",
       "  </tbody>\n",
       "</table>\n"
      ],
      "text/plain": [
       "<pandas.io.formats.style.Styler at 0x7fde01645700>"
      ]
     },
     "execution_count": 28,
     "metadata": {},
     "output_type": "execute_result"
    }
   ],
   "source": [
    "df.sample(5, random_state=123).style.format({\n",
    "    'x2': lambda x: '{:.3} million'.format(x / 1_000_000),\n",
    "    'x3': '{:.1%}'.format,\n",
    "    'x5': '{:,.1f}'.format,\n",
    "})"
   ]
  },
  {
   "cell_type": "markdown",
   "metadata": {},
   "source": [
    "### Further Reading\n",
    "\n",
    "- [Matplotlib axis tick formatting](https://matplotlib.org/stable/gallery/ticks_and_spines/tick-formatters.html)\n",
    "- [Matplotlib color pallettes](https://matplotlib.org/stable/tutorials/colors/colormaps.html#diverging)\n",
    "- [Python string formatting docs](https://docs.python.org/3/library/string.html#formatstrings)\n",
    "- [Pandas table styling](https://pandas.pydata.org/pandas-docs/stable/user_guide/style.html)"
   ]
  },
  {
   "cell_type": "markdown",
   "metadata": {},
   "source": [
    "## Going Further\n",
    "\n",
    "- Consider [median absolute error][1] as an evaluation metric. Large outliers, like in the zillow dataset, have a pretty big impact on RMSE.\n",
    "\n",
    "    $ \\mbox{MAE} = \\mbox{med}(|y - \\hat{y}|) $\n",
    "    \n",
    "- Interpret linear regression model coefficients to determine which features the model thinks are most important and specifically how they impact the target.\n",
    "\n",
    "[1]: https://scikit-learn.org/stable/modules/generated/sklearn.metrics.median_absolute_error.html"
   ]
  },
  {
   "cell_type": "code",
   "execution_count": 29,
   "metadata": {},
   "outputs": [
    {
     "name": "stdout",
     "output_type": "stream",
     "text": [
      "Median Absolute Error: $0.323\n",
      "\n",
      "---\n",
      "Holding other features constant,\n",
      "for every 1 unit increase in total_bill\n",
      "the model predicts tip amount goes up by $0.099\n",
      "---\n",
      "Holding other features constant,\n",
      "for every 1 unit increase in size\n",
      "the model predicts tip amount goes up by $0.221\n"
     ]
    }
   ],
   "source": [
    "import pandas as pd\n",
    "import seaborn as sns\n",
    "from sklearn.model_selection import train_test_split\n",
    "from sklearn.linear_model import LinearRegression\n",
    "from sklearn.metrics import median_absolute_error as mae\n",
    "\n",
    "tips = sns.load_dataset('tips')\n",
    "X, y = tips[['total_bill', 'size']], tips.tip\n",
    "X_train, X_test, y_train, y_test = train_test_split(X, y, test_size=.2, random_state=123)\n",
    "\n",
    "lm = LinearRegression().fit(X_train, y_train)\n",
    "print('Median Absolute Error: ${:.3f}'.format(mae(y_test, lm.predict(X_test))))\n",
    "print()\n",
    "\n",
    "for feature, coef in pd.Series(lm.coef_, index=X_train.columns).iteritems():\n",
    "    print(f'---\\nHolding other features constant,\\nfor every 1 unit increase in {feature}\\nthe model predicts tip amount goes up by ${coef:.3f}')"
   ]
  }
 ],
 "metadata": {
  "kernelspec": {
   "display_name": "Python 3",
   "language": "python",
   "name": "python3"
  },
  "language_info": {
   "codemirror_mode": {
    "name": "ipython",
    "version": 3
   },
   "file_extension": ".py",
   "mimetype": "text/x-python",
   "name": "python",
   "nbconvert_exporter": "python",
   "pygments_lexer": "ipython3",
   "version": "3.8.8"
  }
 },
 "nbformat": 4,
 "nbformat_minor": 4
}
